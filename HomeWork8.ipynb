{
 "cells": [
  {
   "cell_type": "markdown",
   "id": "747edc12",
   "metadata": {},
   "source": [
    "## Урок 9. Производная функции нескольких переменных. Часть 2"
   ]
  },
  {
   "cell_type": "markdown",
   "id": "18ccef0d",
   "metadata": {},
   "source": [
    "### 1. Найти $ \\frac{dz}{dt} $, если $ z = z(x; y) $, $ x = x(t) $, $ y = y(t) $:\n",
    "\n",
    "$$ z = x^2 + y^2 + xy, \\quad x = a \\sin t, \\quad y = a \\cos t $$"
   ]
  },
  {
   "cell_type": "markdown",
   "id": "71d2bd84",
   "metadata": {},
   "source": [
    "#### Решение.\n",
    "Используем правило дифференцирования сложной функции\n",
    "$$ \\frac{dz}{dt} = \\frac{\\partial z}{\\partial x} \\cdot \\frac{dx}{dt} + \\frac{\\partial z}{\\partial y} \\cdot \\frac{dy}{dt} $$\n",
    "\n",
    "Вычислим частные производные\n",
    "$$ \\frac{\\partial z}{\\partial x} = 2x + y $$\n",
    "$$ \\frac{\\partial z}{\\partial y} = 2y + x $$\n",
    "\n",
    "Теперь найдем производные $ x $ и $ y $ по $ t $\n",
    "$$ \\frac{dx}{dt} = a \\cos t $$\n",
    "$$ \\frac{dy}{dt} = -a \\sin t $$\n",
    "\n",
    "Подставляя найденные значения, получаем\n",
    "$$ \\frac{dz}{dt} = (2x + y) \\cdot a \\cos t + (2y + x) \\cdot (-a \\sin t) $$\n",
    "\n",
    "Подставляем $ x = a \\sin t $ и $ y = a \\cos t $\n",
    "$$ \\frac{dz}{dt} = (2a \\sin t + a \\cos t) \\cdot a \\cos t + (2a \\cos t + a \\sin t) \\cdot (-a \\sin t) $$\n",
    "$$ \\frac{dz}{dt} = a^2 (2 \\sin t \\cos t + \\cos^2 t) - a^2 (2 \\cos t \\sin t + \\sin^2 t) $$\n",
    "$$ \\frac{dz}{dt} = a^2 (\\cos^2 t - \\sin^2 t) $$\n",
    "$$ \\frac{dz}{dt} = a^2 \\cos 2t $$\n",
    "\n",
    "#### Ответ:  $ \\frac{dz}{dt} = a^2 \\cos 2t $"
   ]
  },
  {
   "cell_type": "markdown",
   "id": "701abfc9",
   "metadata": {},
   "source": [
    "### 2. Для данных $ z = f(x; y) $, $ x = x(u; v) $, $ y = y(u; v) $ найти $ \\frac{\\partial z}{\\partial u} $, $ \\frac{\\partial z}{\\partial v} $ и $ dz $:\n",
    "\n",
    "$$ z = x^3 + y^3, \\quad x = uv, \\quad y = \\frac{u}{v} $$\n",
    "\n",
    "#### Решение.\n",
    "Используем правило дифференцирования сложной функции\n",
    "$$ \\frac{\\partial z}{\\partial u} = \\frac{\\partial z}{\\partial x} \\cdot \\frac{\\partial x}{\\partial u} + \\frac{\\partial z}{\\partial y} \\cdot \\frac{\\partial y}{\\partial u} $$\n",
    "$$ \\frac{\\partial z}{\\partial v} = \\frac{\\partial z}{\\partial x} \\cdot \\frac{\\partial x}{\\partial v} + \\frac{\\partial z}{\\partial y} \\cdot \\frac{\\partial y}{\\partial v} $$\n",
    "\n",
    "Вычисляем частные производные\n",
    "$$ \\frac{\\partial z}{\\partial x} = 3x^2 $$\n",
    "$$ \\frac{\\partial z}{\\partial y} = 3y^2 $$\n",
    "\n",
    "Теперь находим производные $ x $ и $ y $ по $ u $ и $ v $\n",
    "$$ \\frac{\\partial x}{\\partial u} = v $$\n",
    "$$ \\frac{\\partial x}{\\partial v} = u $$\n",
    "$$ \\frac{\\partial y}{\\partial u} = \\frac{1}{v} $$\n",
    "$$ \\frac{\\partial y}{\\partial v} = -\\frac{u}{v^2} $$\n",
    "\n",
    "Подставляем все в формулы\n",
    "$$ \\frac{\\partial z}{\\partial u} = 3x^2 \\cdot v + 3y^2 \\cdot \\frac{1}{v} $$\n",
    "$$ \\frac{\\partial z}{\\partial v} = 3x^2 \\cdot u + 3y^2 \\cdot -\\frac{u}{v^2} $$\n",
    "\n",
    "Подставляя $ x = uv $ и $ y = \\frac{u}{v} $, получаем\n",
    "\n",
    "#### Ответ: $$ \\frac{\\partial z}{\\partial u} = 3(uv)^2 \\cdot v + 3\\left(\\frac{u}{v}\\right)^2 \\cdot \\frac{1}{v} $$\n",
    "$$ \\frac{\\partial z}{\\partial v} = 3(uv)^2 \\cdot u + 3\\left(\\frac{u}{v}\\right)^2 \\cdot -\\frac{u}{v^2} $$\n"
   ]
  },
  {
   "cell_type": "markdown",
   "id": "88f1390d",
   "metadata": {},
   "source": [
    "### 3. Найти производную $ y'(x) $ неявной функций, заданной уравнением:\n",
    "\n",
    "$$ xe^{2y} - y \\ln x = 8 $$\n",
    "\n",
    "#### Решение.\n",
    "Продифференцируем обе части уравнения по $ x $\n",
    "$$ \\frac{d}{dx}(xe^{2y}) - \\frac{d}{dx}(y \\ln x) = \\frac{d}{dx}(8) $$\n",
    "\n",
    "Используем правило дифференцирования произведения и правило дифференцирования сложной функции\n",
    "$$ e^{2y} + x \\cdot 2e^{2y} \\cdot y' - y' \\ln x - y \\cdot \\frac{1}{x} = 0 $$\n",
    "\n",
    "Выразим $ y' $\n",
    "$$ e^{2y} + 2xy'e^{2y} - y' \\ln x - \\frac{y}{x} = 0 $$\n",
    "$$ y'(2xe^{2y} - \\ln x) = \\frac{y}{x} - e^{2y} $$\n",
    "\n",
    "#### Ответ: $ y' = \\frac{\\frac{y}{x} - e^{2y}}{2xe^{2y} - \\ln x} $"
   ]
  },
  {
   "cell_type": "markdown",
   "id": "21833e6f",
   "metadata": {},
   "source": [
    "### 4. Составить уравнение касательной прямой и нормали к кривой $ y = y(x) $, заданной уравнением $ F(x; y) = 0 $ в точке $ M_0(x_0; y_0) $:\n",
    "\n",
    "$$ x^3 y - y^3 x = 6, \\quad M_0(2; 1) $$\n",
    "\n",
    "#### Решение.\n",
    "Используем уравнение касательной к графику функции $ y = f(x) $ в точке $ x_0 $: $ y = y′(x_0)(x−x_0) + y(x_0) $.  \n",
    "Найдем производную $ y' $ \n",
    "$$ F(x, y) = x^3 y - y^3 x - 6 $$\n",
    "$$ \\frac{\\partial F}{\\partial x} = 3x^2 y - y^3 $$\n",
    "$$ \\frac{\\partial F}{\\partial y} = x^3 - 3y^2 x $$\n",
    "\n",
    "В точке $ (2, 1) $\n",
    "$$ \\frac{\\partial F}{\\partial x} = 3 \\cdot 2^2 \\cdot 1 - 1^3 = 12 - 1 = 11 $$\n",
    "$$ \\frac{\\partial F}{\\partial y} = 2^3 - 3 \\cdot 1^2 \\cdot 2 = 8 - 6 = 2 $$\n",
    "\n",
    "Производная $ y' $ в точке $ (2, 1) $\n",
    "$$ y' = -\\frac{\\frac{\\partial F}{\\partial x}}{\\frac{\\partial F}{\\partial y}} = -\\frac{11}{2} $$\n",
    "\n",
    "Уравнение касательной\n",
    "$$ y = -\\frac{11}{2}(x - 2) + 1$$\n",
    "$$ y = -\\frac{11}{2}x + 11 + 1 $$\n",
    "$$ y = -\\frac{11}{2}x + 12 $$\n",
    "\n",
    "Если существует конечная и отличная от нуля производная $ y'(x_0) $, то уравнение нормали к графику функции $ y = f(x) $ в точке  $ (x_0; y(x_0)) $ выражается следующим уравнением: $ y - y(x_0) = -\\frac {1}{y'(x_0)} (x-x_0) $\n",
    "\n",
    "Уравнение нормали\n",
    "$$ y - 1 = \\frac{2}{11}(x - 2) $$\n",
    "$$ y = \\frac{2}{11}x - \\frac{4}{11} + 1 $$\n",
    "$$ y = \\frac{2}{11}x + \\frac{7}{11} $$\n",
    "\n",
    "#### Ответ: Касательная $ y = -\\frac{11}{2}x + 12 $. Нормаль $ y = \\frac{2}{11}x + \\frac{7}{11} $"
   ]
  },
  {
   "cell_type": "markdown",
   "id": "db637077",
   "metadata": {},
   "source": [
    "### 5. Для данных функций найти требуемую частную производную или дифференциал:\n",
    "\n",
    "1. $ z = \\sin x \\sin y $, $ d^2 z $\n",
    "2. $ z = xy + \\sin(x + y) $, $ \\frac{\\partial^2 z}{\\partial x^2} $\n",
    "\n",
    "#### Решение.\n",
    "1. $ z = \\sin x \\sin y $\n",
    "\n",
    "Найдем первые производные\n",
    "$$ \\frac{\\partial z}{\\partial x} = \\cos x \\sin y $$\n",
    "$$ \\frac{\\partial z}{\\partial y} = \\sin x \\cos y $$\n",
    "\n",
    "Найдем вторые производные\n",
    "$$ \\frac{\\partial^2 z}{\\partial x^2} = -\\sin x \\sin y $$\n",
    "$$ \\frac{\\partial^2 z}{\\partial y^2} = -\\sin x \\sin y $$\n",
    "$$ \\frac{\\partial^2 z}{\\partial x \\partial y} = \\cos x \\cos y $$\n",
    "\n",
    "Дифференциал второго порядка\n",
    "$$ d^2 z = \\frac{\\partial^2 z}{\\partial x^2} dx^2 + 2 \\frac{\\partial^2 z}{\\partial x \\partial y} dx dy + \\frac{\\partial^2 z}{\\partial y^2} dy^2 $$\n",
    "$$ d^2 z = -\\sin x \\sin y dx^2 + 2 \\cos x \\cos y dx dy - \\sin x \\sin y dy^2 $$\n",
    "\n",
    "2. $ z = xy + \\sin(x + y) $\n",
    "\n",
    "Найдем первые производные\n",
    "$$ \\frac{\\partial z}{\\partial x} = y + \\cos(x + y) $$\n",
    "\n",
    "Найдем вторую производную по $ x $\n",
    "$$ \\frac{\\partial^2 z}{\\partial x^2} = -\\sin(x + y) $$\n",
    "\n",
    "#### Ответ:  \n",
    "1. $ d^2 z = -\\sin x \\sin y dx^2 + 2 \\cos x \\cos y dx dy - \\sin x \\sin y dy^2 $,  \n",
    "2. $ \\frac{\\partial^2 z}{\\partial x^2} = -\\sin(x + y) $"
   ]
  },
  {
   "cell_type": "code",
   "execution_count": null,
   "id": "b8893873",
   "metadata": {},
   "outputs": [],
   "source": []
  }
 ],
 "metadata": {
  "kernelspec": {
   "display_name": "Python 3 (ipykernel)",
   "language": "python",
   "name": "python3"
  },
  "language_info": {
   "codemirror_mode": {
    "name": "ipython",
    "version": 3
   },
   "file_extension": ".py",
   "mimetype": "text/x-python",
   "name": "python",
   "nbconvert_exporter": "python",
   "pygments_lexer": "ipython3",
   "version": "3.9.13"
  }
 },
 "nbformat": 4,
 "nbformat_minor": 5
}
