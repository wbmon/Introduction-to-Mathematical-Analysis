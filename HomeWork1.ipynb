{
 "cells": [
  {
   "cell_type": "code",
   "execution_count": 41,
   "metadata": {
    "colab": {},
    "colab_type": "code",
    "id": "4ZK4soLP20-k"
   },
   "outputs": [],
   "source": [
    "import random\n",
    "import math\n",
    "import itertools"
   ]
  },
  {
   "cell_type": "markdown",
   "metadata": {
    "colab_type": "text",
    "id": "hO093MwZ-nHS"
   },
   "source": [
    "## ***Тема \"Введение в математический анализ\"***\n"
   ]
  },
  {
   "cell_type": "markdown",
   "metadata": {
    "colab_type": "text",
    "id": "Wa9nAG7c3Cvd"
   },
   "source": [
    "**1. Как соотносятся понятия “множество” и “последовательность”? (в ответе использовать слова типа: часть, целое, общее, частное, родитель, дочерний субъект и т.д.)**\n",
    "\n",
    "\n",
    "**Ответ:**\n",
    "Множество — это совокупность, собрание каких-либо объектов и обладают общими для всех их характеристическим свойством.\n",
    "\n",
    "Последовательность — набор элементов некоторого множества.\n",
    "\n",
    "Последовательность, является частью некоторого множества объектов. Последовательность является результатом последовательного выбора элементов заданного множества.\n",
    "\n"
   ]
  },
  {
   "cell_type": "markdown",
   "metadata": {
    "colab_type": "text",
    "id": "0vhnSPvp3Mt6"
   },
   "source": [
    "**2. Прочитать высказывания математической логики, построить их отрицания и установить истинность**\n",
    "\n",
    "**Ответ:**\n",
    "1. Для любого y, принадлещего интервалу от 0 до 1 включительно, кусочно-постоянная функция действительного аргумента принимает значение 1.\n",
    "Высказывание ложно.\n",
    "$$\\forall y \\in [0; 1] : sgn(y)=1$$\n",
    "Отрицание:\n",
    "$$\\exists y\\in [0; 1] : sgn(y)\\not=1$$ \n",
    "\n",
    "2. Для любого n больше 2, принадлежащего множеству натуральных чисел, существуют x, y, z, принадлежащие множеству натуральных чисел, для которых выполняется раветство $x^n = y^n + z^n$.  \n",
    "Высказывание истинно.\n",
    "$$\\forall n\\in \\mathbb{N}>2 :\\exists x, y, z\\in \\mathbb{N} : x^n = y^n + z^n$$  \n",
    "Отрицание:\n",
    "$$\\exists n\\in \\mathbb{N}>2 :\\forall x, y, z\\in \\mathbb{N} : x^n\\ne y^n + z^n$$  \n",
    "\n",
    "3. Для любого x, принадлежащего множеству действительных чисел, существует последовательность X, принадлежащая множеству действительных чисел, для которой выполняется неравенство X > x.\n",
    "Высказывание ложно.\n",
    "$$\\forall x\\in \\mathbb{R}\\exists X\\in \\mathbb{R} : X > x$$\n",
    "Отрицание: \n",
    "$$\\exists x\\in \\mathbb{R}\\forall X\\in \\mathbb{R} : X\\leq x$$\n",
    "\n",
    "\n",
    "4. Для любого x, принадлежащего множеству комплексных чисел, не существует y, принадлежащего множеству комплексных чисел, для которого выполняется неравенство x > y или x < y.   \n",
    "Высказывание истинно.\n",
    "$$\\forall x\\in \\mathbb{C}\\forall y\\in \\mathbb{C} : x > y || x < y$$\n",
    "Отрицание: \n",
    "$$\\exists x\\in \\mathbb{C}\\forall y\\in \\mathbb{C} : x\\leq y, \\ x\\geq y$$\n",
    "\n",
    "\n",
    "5. Для любого y, принадлежащего интервалу от 0 до $\\frac{\\pi}{2}$ включительно, существует $\\epsilon$ больше 0, для которого выполняется неравенство $\\sin{y} < \\sin{(y + \\epsilon)}$.  \n",
    "Высказывание ложно. \n",
    "$$\\forall y\\in[0; \\frac\\pi2]\\exists \\varepsilon > 0 : sin(y)< sin(y + \\varepsilon)$$\n",
    "Отрицание:\n",
    "$$\\exists y\\in[0; \\frac\\pi2]\\forall \\varepsilon\\leq 0 : sin(y)\\geq sin(y + \\varepsilon)$$\n",
    "\n",
    "\n",
    "6. Для любого y, принадлежащего интервалу от 0 включительно до $\\pi $ невключительно, существует $\\epsilon$ больше 0, для которого выполняется неравенство $\\cos{y} < \\cos{(y + \\epsilon)}$.  \n",
    "Высказывание истино.  \n",
    "$$\\forall y\\in[0; \\pi)\\exists\\varepsilon > 0 : cos(y) > \\cos(y + \\varepsilon)$$\n",
    "Отрицание:\n",
    "$$\\exists y\\in[0; \\pi)\\forall\\varepsilon\\leq 0 : cos(y)\\leq \\cos(y + \\varepsilon)$$\n",
    "\n",
    "\n",
    "7. Для любого x, x не является элементом множества натуральных, целых, рациональных, действительных и комплексных чисел.  \n",
    "Высказывание ложно.  \n",
    "$$\\exists x : x\\notin \\{ \\mathbb {N, Z, Q, R, C } \\}$$\n",
    "Отрицание:\n",
    "$$\\forall x : x\\notin \\{ \\mathbb {N, Z, Q, R, C } \\}$$"
   ]
  },
  {
   "cell_type": "markdown",
   "metadata": {
    "colab_type": "text",
    "id": "M9yew8Ta-1pM"
   },
   "source": [
    "## ***Тема \"Множество\"***"
   ]
  },
  {
   "cell_type": "markdown",
   "metadata": {},
   "source": [
    "**1. Даны три множества A, B и C. Необходимо выполнить все изученные виды бинарных операций над всеми комбинациями множеств.**"
   ]
  },
  {
   "cell_type": "markdown",
   "metadata": {},
   "source": [
    "$A = \\{1, 3, 94\\}$  \n",
    "$B = \\{3, 13, 17, 28, 94, 31\\}$  \n",
    "$C = \\{94, 3, 4, 75, 11, 54, 28, 29\\}$  "
   ]
  },
  {
   "cell_type": "markdown",
   "metadata": {},
   "source": [
    "+ Пересечения  \n",
    "$A \\cap B = \\{3, 94\\}$  \n",
    "$A \\cap C = \\{3, 94\\}$  \n",
    "$B \\cap C = \\{3, 28, 94\\}$"
   ]
  },
  {
   "cell_type": "markdown",
   "metadata": {},
   "source": [
    "+ Объединения  \n",
    "$A \\cup B = \\{1, 3, 13, 17, 28, 94, 31\\}$  \n",
    "$A \\cup C = \\{1, 3, 4, 11, 75, 54, 28, 29, 94\\}$  \n",
    "$B \\cup C = \\{3, 4, 11, 75, 13, 17, 54, 28, 29, 94, 31\\}$"
   ]
  },
  {
   "cell_type": "markdown",
   "metadata": {},
   "source": [
    "+ Разности  \n",
    "$A \\setminus B = \\{1\\}$  \n",
    "$B \\setminus A = \\{17, 28, 13, 31\\}$  \n",
    "$A \\setminus C = \\{1\\}$  \n",
    "$C \\setminus A = \\{4, 75, 11, 54, 28, 29\\}$  \n",
    "$B \\setminus C = \\{17, 13, 31\\}$  \n",
    "$C \\setminus B = \\{4, 75, 11, 54, 29\\}$"
   ]
  },
  {
   "cell_type": "markdown",
   "metadata": {},
   "source": [
    "+ Симметрические разности  \n",
    "$А \\Delta В = \\{17, 1, 28, 13, 31\\}$  \n",
    "$А \\Delta C = \\{1, 4, 11, 75, 54, 28, 29\\}$  \n",
    "$B \\Delta C = \\{4, 11, 75, 13, 17, 54, 29, 31\\}$"
   ]
  },
  {
   "cell_type": "markdown",
   "metadata": {},
   "source": [
    "+ Декартовы произведения:  \n",
    "$A \\times B = \\{(1, 17), (1, 3), (1, 28), (1, 13), (1, 94), (1, 31), (3, 17), (3, 3), (3, 28), (3, 13), (3, 94), (3, 31), (94, 17), (94, 3), (94, 28), (94, 13), (94, 94), (94, 31)\\}$  \n",
    "$A \\times C = \\{(1, 3), (1, 4), (1, 11), (1, 75), (1, 54), (1, 28), (1, 29), (1, 94), (3, 3), (3, 4), (3, 11), (3, 75), (3, 54), (3, 28), (3, 29), (3, 94), (94, 3), (94, 4), (94, 11), (94, 75), (94, 54), (94, 28), (94, 29), (94, 94)\\}$  \n",
    "$B \\times C = \\{(17, 3), (17, 4), (17, 11), (17, 75), (17, 54), (17, 28), (17, 29), (17, 94), (3, 3), (3, 4), (3, 11), (3, 75), (3, 54), (3, 28), (3, 29), (3, 94), (28, 3), (28, 4), (28, 11), (28, 75), (28, 54), (28, 28), (28, 29), (28, 94), (13, 3), (13, 4), (13, 11), (13, 75), (13, 54), (13, 28), (13, 29), (13, 94), (94, 3), (94, 4), (94, 11), (94, 75), (94, 54), (94, 28), (94, 29), (94, 94), (31, 3), (31, 4), (31, 11), (31, 75), (31, 54), (31, 28), (31, 29), (31, 94)\\}$"
   ]
  },
  {
   "cell_type": "markdown",
   "metadata": {},
   "source": [
    "**2. Выполнить задание 1 на языке Python.**"
   ]
  },
  {
   "cell_type": "code",
   "execution_count": 42,
   "metadata": {
    "colab": {},
    "colab_type": "code",
    "id": "e5ZMS95P20-w"
   },
   "outputs": [],
   "source": [
    "a = set([random.randint(0, 99) for _ in range(random.randint(1, 10))])\n",
    "b = set([random.randint(0, 99) for _ in range(random.randint(1, 10))])\n",
    "c = set([random.randint(0, 99) for _ in range(random.randint(1, 10))])"
   ]
  },
  {
   "cell_type": "code",
   "execution_count": 43,
   "metadata": {
    "colab": {},
    "colab_type": "code",
    "id": "Xtqg7FqQ20-2",
    "outputId": "2c353e36-cbff-439f-e6a9-1a942e27735d"
   },
   "outputs": [
    {
     "name": "stdout",
     "output_type": "stream",
     "text": [
      "A: {12, 49, 22, 24, 92}\n",
      "B: {64, 35, 51, 23, 61}\n",
      "C: {0, 64, 72, 15, 17, 81, 27, 93}\n"
     ]
    }
   ],
   "source": [
    "print(f'A: {a}')\n",
    "print(f'B: {b}')\n",
    "print(f'C: {c}')"
   ]
  },
  {
   "cell_type": "code",
   "execution_count": 44,
   "metadata": {
    "colab": {},
    "colab_type": "code",
    "id": "se8aX-uY20_B"
   },
   "outputs": [],
   "source": [
    "sets = {\n",
    "    'A': a,\n",
    "    'B': b,\n",
    "    'C': c\n",
    "}"
   ]
  },
  {
   "cell_type": "code",
   "execution_count": 45,
   "metadata": {
    "colab": {},
    "colab_type": "code",
    "id": "-_Lvv76d20_H",
    "outputId": "74d8498d-4b3c-4607-f348-d37b905eeff3"
   },
   "outputs": [
    {
     "name": "stdout",
     "output_type": "stream",
     "text": [
      "Множества: A, B\n",
      " A: {12, 49, 22, 24, 92},\n",
      " B: {64, 35, 51, 23, 61}\n",
      "Объединение A | B: {64, 35, 12, 49, 51, 22, 23, 24, 92, 61}\n",
      "Пересечение A & B: {}\n",
      "Разность A - B: {12, 49, 22, 24, 92}\n",
      "Симметрическая разность A ^ B: {64, 12, 22, 23, 24, 92, 35, 49, 51, 61}\n",
      "Декартово произведение A * B: {(49, 23), (92, 61), (49, 35), (92, 64), (24, 51), (22, 23), (22, 35), (24, 23), (92, 51), (12, 61), (12, 64), (24, 35), (92, 23), (49, 61), (92, 35), (49, 64), (12, 51), (22, 61), (22, 64), (12, 23), (12, 35), (24, 61), (49, 51), (24, 64), (22, 51)}\n",
      "\n",
      "Множества: A, C\n",
      " A: {12, 49, 22, 24, 92},\n",
      " C: {0, 64, 72, 15, 17, 81, 27, 93}\n",
      "Объединение A | C: {0, 64, 72, 12, 15, 49, 17, 81, 22, 24, 27, 92, 93}\n",
      "Пересечение A & C: {}\n",
      "Разность A - C: {12, 49, 22, 24, 92}\n",
      "Симметрическая разность A ^ C: {0, 64, 72, 12, 15, 17, 81, 49, 22, 24, 27, 92, 93}\n",
      "Декартово произведение A * C: {(49, 81), (24, 27), (22, 72), (92, 0), (92, 64), (49, 93), (22, 17), (22, 81), (92, 15), (22, 93), (92, 27), (24, 72), (24, 17), (24, 81), (12, 0), (12, 64), (24, 93), (12, 15), (92, 72), (92, 17), (12, 27), (92, 81), (49, 0), (49, 64), (92, 93), (49, 15), (22, 0), (22, 64), (49, 27), (12, 72), (12, 17), (22, 15), (12, 81), (22, 27), (24, 0), (12, 93), (24, 64), (24, 15), (49, 72), (49, 17)}\n",
      "\n",
      "Множества: B, C\n",
      " B: {64, 35, 51, 23, 61},\n",
      " C: {0, 64, 72, 15, 17, 81, 27, 93}\n",
      "Объединение B | C: {64, 0, 35, 72, 15, 17, 81, 51, 93, 23, 27, 61}\n",
      "Пересечение B & C: {64}\n",
      "Разность B - C: {51, 35, 61, 23}\n",
      "Симметрическая разность B ^ C: {0, 35, 72, 15, 17, 81, 51, 61, 23, 27, 93}\n",
      "Декартово произведение B * C: {(64, 72), (35, 27), (64, 17), (61, 0), (64, 81), (61, 64), (64, 93), (61, 15), (61, 27), (35, 72), (35, 17), (35, 81), (23, 0), (23, 64), (35, 93), (23, 15), (51, 0), (51, 64), (23, 27), (51, 15), (61, 72), (61, 17), (61, 81), (51, 27), (61, 93), (64, 0), (64, 64), (64, 15), (23, 72), (64, 27), (23, 17), (23, 81), (51, 72), (35, 0), (23, 93), (51, 81), (35, 64), (51, 17), (51, 93), (35, 15)}\n",
      "\n"
     ]
    }
   ],
   "source": [
    "for combination in itertools.combinations(sets.keys(), 2):\n",
    "    x, y = combination[0], combination[1]\n",
    "    print(f'Множества: {x}, {y}')\n",
    "    print(f' {x}: {sets[x]},\\n {y}: {sets[y]}')\n",
    "    print(f'Объединение {x} | {y}: {(lambda s: \"{}\" if not s else str(s))(sets[x] | sets[y])}')\n",
    "    print(f'Пересечение {x} & {y}: {(lambda s: \"{}\" if not s else str(s))(sets[x] & sets[y])}')\n",
    "    print(f'Разность {x} - {y}: {(lambda s: \"{}\" if not s else str(s))(sets[x] - sets[y])}')\n",
    "    print(f'Симметрическая разность {x} ^ {y}: {(lambda s: \"{}\" if not s else str(s))(sets[x] ^ sets[y])}')\n",
    "    cartesian = []\n",
    "    for item in itertools.product(sets[x], sets[y]):\n",
    "        cartesian.append(item)\n",
    "    print(f'Декартово произведение {x} * {y}: {set(cartesian)}')\n",
    "    print()"
   ]
  },
  {
   "cell_type": "markdown",
   "metadata": {
    "colab_type": "text",
    "id": "5QS5T4W8_Ep6"
   },
   "source": [
    "## ***Тема \"Последовательность\"***\n"
   ]
  },
  {
   "cell_type": "markdown",
   "metadata": {
    "colab_type": "text",
    "id": "Y17NrV_320_P"
   },
   "source": [
    "**1. Даны 4 последовательности. Необходимо:**  \n",
    "    a.  исследовать их на монотонность;  \n",
    "    b.  исследовать на ограниченность;  \n",
    "    c.  найти пятый по счету член."
   ]
  },
  {
   "cell_type": "code",
   "execution_count": 46,
   "metadata": {
    "colab": {},
    "colab_type": "code",
    "id": "XPXsk-jZ20_R"
   },
   "outputs": [],
   "source": [
    "def monotony(sequence):\n",
    "    for i in range(1, len(sequence)):\n",
    "        if sequence[i] > sequence[i-1]:\n",
    "            return 'Последовательность монотонно возрастает'\n",
    "        elif sequence[i] < sequence[i-1]:\n",
    "            return 'Последовательность монотонно убывает'\n",
    "        else:\n",
    "            return 'Последовательность не убывает и не возрастает'"
   ]
  },
  {
   "cell_type": "markdown",
   "metadata": {},
   "source": [
    "## $\\{a_n\\}^\\infty_{n=1}=2^n -n$ ##  \n",
    "\n",
    "a. монотонная последовательность  \n",
    "b. последовательность ограничена снизу числом 1  \n",
    "c. $27$"
   ]
  },
  {
   "cell_type": "code",
   "execution_count": 47,
   "metadata": {
    "colab": {},
    "colab_type": "code",
    "id": "tdB8Cpdr20_V",
    "outputId": "abb355de-ad28-432b-b283-3c5f068d9e2d"
   },
   "outputs": [
    {
     "name": "stdout",
     "output_type": "stream",
     "text": [
      "Последовательность монотонно возрастает\n",
      "Перывые 10 элементов последовательности 2 ^ n - n: \n",
      "[1, 2, 5, 12, 27, 58, 121, 248, 503, 1014]\n",
      "Пятый по счету член последовательности 2 ^ n - n равен 27\n"
     ]
    }
   ],
   "source": [
    "def seq1(n):\n",
    "    return 2 ** n - n\n",
    "\n",
    "ns = list(range(1, 11, 1))\n",
    "elements = list(map(seq1, ns))\n",
    "\n",
    "print(monotony(elements))\n",
    "print(f'Перывые 10 элементов последовательности 2 ^ n - n: \\n{elements}')\n",
    "print(f'Пятый по счету член последовательности 2 ^ n - n равен {seq1(ns[4])}')"
   ]
  },
  {
   "cell_type": "markdown",
   "metadata": {},
   "source": [
    "## $\\{b_n\\}^\\infty_{n=2} = \\frac {1} {1 -n}$ ##  \n",
    "\n",
    "a. монотонная последовательность  \n",
    "b. последовательность ограничена сверху числом 1  \n",
    "c. $-\\frac{1}{5}$"
   ]
  },
  {
   "cell_type": "code",
   "execution_count": 48,
   "metadata": {
    "colab": {},
    "colab_type": "code",
    "id": "IdrxK9lX20_Y",
    "outputId": "5882a785-552b-45b3-c645-b4407dfd5951"
   },
   "outputs": [
    {
     "name": "stdout",
     "output_type": "stream",
     "text": [
      "Последовательность монотонно возрастает\n",
      "Перывые 10 элементов последовательности 1 / (n - 1): \n",
      "[-1.0, -0.5, -0.3333333333333333, -0.25, -0.2, -0.16666666666666666, -0.14285714285714285, -0.125, -0.1111111111111111, -0.1]\n",
      "Пятый по счету член последовательности 1 / (n - 1) равен -0.2\n"
     ]
    }
   ],
   "source": [
    "def seq2(n):\n",
    "    return 1 / (1 - n)\n",
    "\n",
    "ns = list(range(2, 12, 1))\n",
    "elements = list(map(seq2, ns))\n",
    "\n",
    "print(monotony(elements))\n",
    "print(f'Перывые 10 элементов последовательности 1 / (n - 1): \\n{elements}')\n",
    "print(f'Пятый по счету член последовательности 1 / (n - 1) равен {seq2(ns[4])}')"
   ]
  },
  {
   "cell_type": "markdown",
   "metadata": {},
   "source": [
    "## $\\{c_n\\}^\\infty_{n=1} = -1^n + \\sqrt{2n}$ ##  \n",
    "\n",
    "a. монотонная последовательность  \n",
    "b.    Поскольку $c_n \\to \\infty$ при $n \\to \\infty$, не существует такого числа $M > 0$, что для всех $n$ выполняется $|c_n| \\leq M$.  \n",
    "   Следовательно, последовательность ${c_n}$ не является ограниченной.  \n",
    "c. $\\sqrt{10} - 1 \\approx 2.162$"
   ]
  },
  {
   "cell_type": "code",
   "execution_count": 49,
   "metadata": {
    "colab": {},
    "colab_type": "code",
    "id": "YD19jgFP20_b",
    "outputId": "a739962c-69ab-47a0-a012-7cfb46bc04a6"
   },
   "outputs": [
    {
     "name": "stdout",
     "output_type": "stream",
     "text": [
      "Последовательность монотонно возрастает\n",
      "Перывые 10 элементов последовательности -1 ^ n + sqrt(2 * n): \n",
      "[0.41421356237309515, 1.0, 1.4494897427831779, 1.8284271247461903, 2.1622776601683795, 2.4641016151377544, 2.7416573867739413, 3.0, 3.2426406871192848, 3.4721359549995796]\n",
      "Пятый по счету член последовательности -1 ^ n + sqrt(2 * n) равен 2.1622776601683795\n"
     ]
    }
   ],
   "source": [
    "def seq3(n):\n",
    "    return -1 ** n + math.sqrt(2 * n)\n",
    "\n",
    "ns = list(range(1, 11, 1))\n",
    "elements = list(map(seq3, ns))\n",
    "\n",
    "print(monotony(elements))\n",
    "print(f'Перывые 10 элементов последовательности -1 ^ n + sqrt(2 * n): \\n{elements}')\n",
    "print(f'Пятый по счету член последовательности -1 ^ n + sqrt(2 * n) равен {seq3(ns[4])}')"
   ]
  },
  {
   "cell_type": "markdown",
   "metadata": {},
   "source": [
    "## $\\{d_n\\}^\\infty_{n=1}= (-1)^{2n} + \\frac{1}{n^2}$ ##  \n",
    "\n",
    "a. монотонно убывающая  \n",
    "b. последовательность ограничена сверху числом 2  \n",
    "c. $1\\frac{1}{25}$"
   ]
  },
  {
   "cell_type": "code",
   "execution_count": 50,
   "metadata": {
    "colab": {},
    "colab_type": "code",
    "id": "vVjiuEI620_f",
    "outputId": "a31c15d6-4c77-4f96-9679-2e58c475e732"
   },
   "outputs": [
    {
     "name": "stdout",
     "output_type": "stream",
     "text": [
      "Последовательность монотонно убывает\n",
      "Перывые 10 элементов последовательности (-1) ^ (2 * n) + 1 / (n ^ 2): \n",
      "[2.0, 1.25, 1.1111111111111112, 1.0625, 1.04, 1.0277777777777777, 1.0204081632653061, 1.015625, 1.0123456790123457, 1.01]\n",
      "Пятый по счету член последовательности (-1) ^ (2 * n) + 1 / (n ^ 2) равен 1.04\n"
     ]
    }
   ],
   "source": [
    "def seq4(n):\n",
    "    return (-1) ** (2 * n) + 1 / (n ** 2)\n",
    "\n",
    "ns = list(range(1, 11, 1))\n",
    "elements = list(map(seq4, ns))\n",
    "\n",
    "print(monotony(elements))\n",
    "print(f'Перывые 10 элементов последовательности (-1) ^ (2 * n) + 1 / (n ^ 2): \\n{elements}')\n",
    "print(f'Пятый по счету член последовательности (-1) ^ (2 * n) + 1 / (n ^ 2) равен {seq4(ns[4])}')"
   ]
  },
  {
   "cell_type": "markdown",
   "metadata": {
    "colab_type": "text",
    "id": "xL31NXBJ20_i"
   },
   "source": [
    "**2. Найти 12-й член заданной неявно последовательности**  \n",
    "$a_1 =128, a_{n+1} - a_n =6$"
   ]
  },
  {
   "cell_type": "markdown",
   "metadata": {},
   "source": [
    "$a_n = 128 + 5n$  \n",
    "$a_{12} = 128 +5\\times 12 = 194$"
   ]
  },
  {
   "cell_type": "code",
   "execution_count": 51,
   "metadata": {
    "colab": {},
    "colab_type": "code",
    "id": "HopBLHtI20_m",
    "outputId": "c83932ea-9dd7-4e2a-e34b-2a3a83e7433e"
   },
   "outputs": [
    {
     "name": "stdout",
     "output_type": "stream",
     "text": [
      "a12 = 194\n"
     ]
    }
   ],
   "source": [
    "a1 = 128\n",
    "d = 6\n",
    "\n",
    "a12 = a1\n",
    "for _ in range(11):\n",
    "    a12 += d\n",
    "    \n",
    "print(f'a12 = {a12}')"
   ]
  },
  {
   "cell_type": "markdown",
   "metadata": {
    "colab_type": "text",
    "id": "_b6xMg9i20_p"
   },
   "source": [
    "**3. На языке Python предложить алгоритм вычисляющий численно предел с точностью  $\\epsilon = 10^{-7}$**  \n",
    "### $\\lim\\limits_{n \\to +\\infty} \\frac{n}{\\sqrt[n]{n!}}$ ###"
   ]
  },
  {
   "cell_type": "code",
   "execution_count": 52,
   "metadata": {},
   "outputs": [],
   "source": [
    "def cached_log_factorial(n, cache={}):\n",
    "    if n not in cache:\n",
    "        cache[n] = sum(log(i) for i in range(1, n + 1))\n",
    "    return cache[n]\n",
    "\n",
    "def f(n):\n",
    "    log_factorial_n = cached_log_factorial(n)\n",
    "    return n / exp(log_factorial_n / n)\n",
    "\n",
    "def generator_f(start):\n",
    "    n = start\n",
    "    while True:\n",
    "        yield f(n), n\n",
    "        n += 1"
   ]
  },
  {
   "cell_type": "code",
   "execution_count": 53,
   "metadata": {
    "colab": {},
    "colab_type": "code",
    "id": "mmr1xax720_8"
   },
   "outputs": [
    {
     "name": "stdout",
     "output_type": "stream",
     "text": [
      "n_iter: 11779\n",
      "f(n) = 2.7169883237274775\n",
      "Wall time: 9.54 s\n"
     ]
    }
   ],
   "source": [
    "%%time\n",
    "eps = 10 ** -7\n",
    "i = 1\n",
    "n = 1\n",
    "x0 = f(n)\n",
    "gen = generator_f(n + 1)\n",
    "\n",
    "while True:\n",
    "    x1, n = next(gen)\n",
    "    i += 1\n",
    "    if abs(x0 - x1) <= eps:\n",
    "        break\n",
    "    x0 = x1\n",
    "\n",
    "print(f'n_iter: {i}')\n",
    "print(f'f(n) = {x0}')"
   ]
  },
  {
   "cell_type": "markdown",
   "metadata": {
    "colab_type": "text",
    "id": "_b6xMg9i20_p"
   },
   "source": [
    "**4. Предложить оптимизацию алгоритма, полученного в задании 3, ускоряющую его сходимость.**"
   ]
  },
  {
   "cell_type": "code",
   "execution_count": 40,
   "metadata": {
    "colab": {},
    "colab_type": "code",
    "id": "NhBDwsxv20_4",
    "outputId": "24bae3b1-dd6b-4b80-a6b6-7cd69c2fa0df"
   },
   "outputs": [
    {
     "name": "stdout",
     "output_type": "stream",
     "text": [
      "n_iter: 231\n",
      "f(n) = 2.7170148450111364\n",
      "Wall time: 14 ms\n"
     ]
    }
   ],
   "source": [
    "%%time\n",
    "eps = 10 ** -7\n",
    "i = 1\n",
    "n = 1\n",
    "x0 = f(n)\n",
    "while True:\n",
    "    i += 1\n",
    "    n += random.randint(1, 100)\n",
    "    x1 = f(n)\n",
    "    if abs(x0 - x1) <= eps:\n",
    "        break\n",
    "    x0 = x1\n",
    "print(f'n_iter: {i}')\n",
    "print(f'f(n) = {x0}')"
   ]
  },
  {
   "cell_type": "code",
   "execution_count": null,
   "metadata": {},
   "outputs": [],
   "source": []
  }
 ],
 "metadata": {
  "colab": {
   "collapsed_sections": [],
   "include_colab_link": true,
   "name": "lesson_01.ipynb",
   "provenance": [],
   "version": "0.3.2"
  },
  "kernelspec": {
   "display_name": "Python 3 (ipykernel)",
   "language": "python",
   "name": "python3"
  },
  "language_info": {
   "codemirror_mode": {
    "name": "ipython",
    "version": 3
   },
   "file_extension": ".py",
   "mimetype": "text/x-python",
   "name": "python",
   "nbconvert_exporter": "python",
   "pygments_lexer": "ipython3",
   "version": "3.9.13"
  }
 },
 "nbformat": 4,
 "nbformat_minor": 1
}
